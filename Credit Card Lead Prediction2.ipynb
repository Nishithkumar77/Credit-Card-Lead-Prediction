{
 "cells": [
  {
   "cell_type": "markdown",
   "metadata": {},
   "source": [
    "### 1. Importing Libraries"
   ]
  },
  {
   "cell_type": "code",
   "execution_count": 1,
   "metadata": {},
   "outputs": [],
   "source": [
    "import pandas as pd\n",
    "import numpy as np\n",
    "import matplotlib.pyplot as plt\n",
    "\n",
    "from sklearn import preprocessing\n",
    "from sklearn.linear_model import LogisticRegression\n",
    "from sklearn.naive_bayes import GaussianNB\n",
    "from sklearn.tree import DecisionTreeClassifier\n",
    "from sklearn.ensemble import RandomForestClassifier\n",
    "from sklearn.model_selection import train_test_split, RepeatedStratifiedKFold, cross_val_score\n",
    "from sklearn.metrics import accuracy_score\n",
    "from xgboost import XGBClassifier "
   ]
  },
  {
   "cell_type": "markdown",
   "metadata": {},
   "source": [
    "### 2. Impoorting Dataset and Data Analysis"
   ]
  },
  {
   "cell_type": "code",
   "execution_count": 2,
   "metadata": {},
   "outputs": [],
   "source": [
    "train_data = pd.read_csv(r'C:\\Users\\HELLO\\Favorites\\Downloads\\Credit Card\\train_s3TEQDk.csv', header=0)\n",
    "test_data = pd.read_csv(r'C:\\Users\\HELLO\\Favorites\\Downloads\\Credit Card\\test_mSzZ8RL.csv', header=0)"
   ]
  },
  {
   "cell_type": "code",
   "execution_count": 3,
   "metadata": {},
   "outputs": [
    {
     "name": "stdout",
     "output_type": "stream",
     "text": [
      "(245725, 11)\n",
      "(105312, 10)\n",
      "                 Age        Vintage  Avg_Account_Balance        Is_Lead\n",
      "count  245725.000000  245725.000000         2.457250e+05  245725.000000\n",
      "mean       43.856307      46.959141         1.128403e+06       0.237208\n",
      "std        14.828672      32.353136         8.529364e+05       0.425372\n",
      "min        23.000000       7.000000         2.079000e+04       0.000000\n",
      "25%        30.000000      20.000000         6.043100e+05       0.000000\n",
      "50%        43.000000      32.000000         8.946010e+05       0.000000\n",
      "75%        54.000000      73.000000         1.366666e+06       0.000000\n",
      "max        85.000000     135.000000         1.035201e+07       1.000000\n",
      "                 Age        Vintage  Avg_Account_Balance\n",
      "count  105312.000000  105312.000000         1.053120e+05\n",
      "mean       43.871002      46.842819         1.134195e+06\n",
      "std        14.872890      32.273634         8.662430e+05\n",
      "min        24.000000       7.000000         2.259700e+04\n",
      "25%        30.000000      20.000000         6.039822e+05\n",
      "50%        43.000000      32.000000         8.966345e+05\n",
      "75%        54.000000      73.000000         1.371598e+06\n",
      "max        85.000000     135.000000         9.908858e+06\n"
     ]
    }
   ],
   "source": [
    "# Understanding the dataset\n",
    "# Shape of the training & testing data\n",
    "print(train_data.shape)\n",
    "print(test_data.shape)\n",
    "print(train_data.describe())\n",
    "print(test_data.describe())"
   ]
  },
  {
   "cell_type": "code",
   "execution_count": 4,
   "metadata": {},
   "outputs": [
    {
     "name": "stdout",
     "output_type": "stream",
     "text": [
      "ID                         0\n",
      "Gender                     0\n",
      "Age                        0\n",
      "Region_Code                0\n",
      "Occupation                 0\n",
      "Channel_Code               0\n",
      "Vintage                    0\n",
      "Credit_Product         29325\n",
      "Avg_Account_Balance        0\n",
      "Is_Active                  0\n",
      "Is_Lead                    0\n",
      "dtype: int64\n",
      "ID                     0\n",
      "Gender                 0\n",
      "Age                    0\n",
      "Region_Code            0\n",
      "Occupation             0\n",
      "Channel_Code           0\n",
      "Vintage                0\n",
      "Credit_Product         0\n",
      "Avg_Account_Balance    0\n",
      "Is_Active              0\n",
      "Is_Lead                0\n",
      "dtype: int64\n"
     ]
    }
   ],
   "source": [
    "# Dropping null values in training data\n",
    "print(train_data.isna().sum())\n",
    "x_train = train_data.dropna()\n",
    "print(x_train.isna().sum())"
   ]
  },
  {
   "cell_type": "code",
   "execution_count": 5,
   "metadata": {},
   "outputs": [
    {
     "name": "stdout",
     "output_type": "stream",
     "text": [
      "ID                         0\n",
      "Gender                     0\n",
      "Age                        0\n",
      "Region_Code                0\n",
      "Occupation                 0\n",
      "Channel_Code               0\n",
      "Vintage                    0\n",
      "Credit_Product         12522\n",
      "Avg_Account_Balance        0\n",
      "Is_Active                  0\n",
      "dtype: int64\n",
      "ID                     0\n",
      "Gender                 0\n",
      "Age                    0\n",
      "Region_Code            0\n",
      "Occupation             0\n",
      "Channel_Code           0\n",
      "Vintage                0\n",
      "Credit_Product         0\n",
      "Avg_Account_Balance    0\n",
      "Is_Active              0\n",
      "dtype: int64\n"
     ]
    }
   ],
   "source": [
    "# Forward filling null values in testing data\n",
    "print(test_data.isna().sum())\n",
    "test_data = test_data.fillna(method='ffill')\n",
    "print(test_data.isna().sum())"
   ]
  },
  {
   "cell_type": "code",
   "execution_count": 6,
   "metadata": {},
   "outputs": [
    {
     "data": {
      "text/html": [
       "<div>\n",
       "<style scoped>\n",
       "    .dataframe tbody tr th:only-of-type {\n",
       "        vertical-align: middle;\n",
       "    }\n",
       "\n",
       "    .dataframe tbody tr th {\n",
       "        vertical-align: top;\n",
       "    }\n",
       "\n",
       "    .dataframe thead th {\n",
       "        text-align: right;\n",
       "    }\n",
       "</style>\n",
       "<table border=\"1\" class=\"dataframe\">\n",
       "  <thead>\n",
       "    <tr style=\"text-align: right;\">\n",
       "      <th></th>\n",
       "      <th>Gender</th>\n",
       "      <th>Age</th>\n",
       "      <th>Region_Code</th>\n",
       "      <th>Occupation</th>\n",
       "      <th>Channel_Code</th>\n",
       "      <th>Vintage</th>\n",
       "      <th>Credit_Product</th>\n",
       "      <th>Avg_Account_Balance</th>\n",
       "      <th>Is_Active</th>\n",
       "    </tr>\n",
       "    <tr>\n",
       "      <th>ID</th>\n",
       "      <th></th>\n",
       "      <th></th>\n",
       "      <th></th>\n",
       "      <th></th>\n",
       "      <th></th>\n",
       "      <th></th>\n",
       "      <th></th>\n",
       "      <th></th>\n",
       "      <th></th>\n",
       "    </tr>\n",
       "  </thead>\n",
       "  <tbody>\n",
       "    <tr>\n",
       "      <th>VBENBARO</th>\n",
       "      <td>Male</td>\n",
       "      <td>29</td>\n",
       "      <td>RG254</td>\n",
       "      <td>Other</td>\n",
       "      <td>X1</td>\n",
       "      <td>25</td>\n",
       "      <td>Yes</td>\n",
       "      <td>742366</td>\n",
       "      <td>No</td>\n",
       "    </tr>\n",
       "    <tr>\n",
       "      <th>CCMEWNKY</th>\n",
       "      <td>Male</td>\n",
       "      <td>43</td>\n",
       "      <td>RG268</td>\n",
       "      <td>Other</td>\n",
       "      <td>X2</td>\n",
       "      <td>49</td>\n",
       "      <td>Yes</td>\n",
       "      <td>925537</td>\n",
       "      <td>No</td>\n",
       "    </tr>\n",
       "    <tr>\n",
       "      <th>VK3KGA9M</th>\n",
       "      <td>Male</td>\n",
       "      <td>31</td>\n",
       "      <td>RG270</td>\n",
       "      <td>Salaried</td>\n",
       "      <td>X1</td>\n",
       "      <td>14</td>\n",
       "      <td>No</td>\n",
       "      <td>215949</td>\n",
       "      <td>No</td>\n",
       "    </tr>\n",
       "  </tbody>\n",
       "</table>\n",
       "</div>"
      ],
      "text/plain": [
       "         Gender  Age Region_Code Occupation Channel_Code  Vintage  \\\n",
       "ID                                                                  \n",
       "VBENBARO   Male   29       RG254      Other           X1       25   \n",
       "CCMEWNKY   Male   43       RG268      Other           X2       49   \n",
       "VK3KGA9M   Male   31       RG270   Salaried           X1       14   \n",
       "\n",
       "         Credit_Product  Avg_Account_Balance Is_Active  \n",
       "ID                                                      \n",
       "VBENBARO            Yes               742366        No  \n",
       "CCMEWNKY            Yes               925537        No  \n",
       "VK3KGA9M             No               215949        No  "
      ]
     },
     "execution_count": 6,
     "metadata": {},
     "output_type": "execute_result"
    }
   ],
   "source": [
    "# Selecting 'ID' as index for both training and testing dataframes\n",
    "x_train.set_index(\"ID\", inplace = True)\n",
    "x_train.head(3)\n",
    "\n",
    "test_data.set_index(\"ID\", inplace=True)\n",
    "test_data.head(3)"
   ]
  },
  {
   "cell_type": "code",
   "execution_count": 7,
   "metadata": {},
   "outputs": [
    {
     "name": "stdout",
     "output_type": "stream",
     "text": [
      "lead_0:  183087\n",
      "lead_1:  33313\n"
     ]
    }
   ],
   "source": [
    "# checking if data is balanced or not\n",
    "# 0 : Customer is not interested\n",
    "# 1 : Customer is interested\n",
    "\n",
    "lead_0 = x_train[x_train['Is_Lead'] == 0]\n",
    "print(\"lead_0: \", len(lead_0))\n",
    "lead_1 = x_train[x_train['Is_Lead'] == 1]\n",
    "print(\"lead_1: \", len(lead_1))"
   ]
  },
  {
   "cell_type": "markdown",
   "metadata": {},
   "source": [
    "We can see that training data have 'lead_0' approx 5 times more than 'lead_1"
   ]
  },
  {
   "cell_type": "code",
   "execution_count": 8,
   "metadata": {},
   "outputs": [
    {
     "data": {
      "text/html": [
       "<div>\n",
       "<style scoped>\n",
       "    .dataframe tbody tr th:only-of-type {\n",
       "        vertical-align: middle;\n",
       "    }\n",
       "\n",
       "    .dataframe tbody tr th {\n",
       "        vertical-align: top;\n",
       "    }\n",
       "\n",
       "    .dataframe thead th {\n",
       "        text-align: right;\n",
       "    }\n",
       "</style>\n",
       "<table border=\"1\" class=\"dataframe\">\n",
       "  <thead>\n",
       "    <tr style=\"text-align: right;\">\n",
       "      <th></th>\n",
       "      <th>Gender</th>\n",
       "      <th>Age</th>\n",
       "      <th>Region_Code</th>\n",
       "      <th>Occupation</th>\n",
       "      <th>Channel_Code</th>\n",
       "      <th>Vintage</th>\n",
       "      <th>Credit_Product</th>\n",
       "      <th>Avg_Account_Balance</th>\n",
       "      <th>Is_Active</th>\n",
       "      <th>Is_Lead</th>\n",
       "    </tr>\n",
       "    <tr>\n",
       "      <th>ID</th>\n",
       "      <th></th>\n",
       "      <th></th>\n",
       "      <th></th>\n",
       "      <th></th>\n",
       "      <th></th>\n",
       "      <th></th>\n",
       "      <th></th>\n",
       "      <th></th>\n",
       "      <th></th>\n",
       "      <th></th>\n",
       "    </tr>\n",
       "  </thead>\n",
       "  <tbody>\n",
       "    <tr>\n",
       "      <th>NNVBBKZB</th>\n",
       "      <td>Female</td>\n",
       "      <td>73</td>\n",
       "      <td>RG268</td>\n",
       "      <td>Other</td>\n",
       "      <td>X3</td>\n",
       "      <td>43</td>\n",
       "      <td>No</td>\n",
       "      <td>1045696</td>\n",
       "      <td>No</td>\n",
       "      <td>0</td>\n",
       "    </tr>\n",
       "    <tr>\n",
       "      <th>IDD62UNG</th>\n",
       "      <td>Female</td>\n",
       "      <td>30</td>\n",
       "      <td>RG277</td>\n",
       "      <td>Salaried</td>\n",
       "      <td>X1</td>\n",
       "      <td>32</td>\n",
       "      <td>No</td>\n",
       "      <td>581988</td>\n",
       "      <td>No</td>\n",
       "      <td>0</td>\n",
       "    </tr>\n",
       "    <tr>\n",
       "      <th>HD3DSEMC</th>\n",
       "      <td>Female</td>\n",
       "      <td>56</td>\n",
       "      <td>RG268</td>\n",
       "      <td>Self_Employed</td>\n",
       "      <td>X3</td>\n",
       "      <td>26</td>\n",
       "      <td>No</td>\n",
       "      <td>1484315</td>\n",
       "      <td>Yes</td>\n",
       "      <td>0</td>\n",
       "    </tr>\n",
       "    <tr>\n",
       "      <th>BF3NC7KV</th>\n",
       "      <td>Male</td>\n",
       "      <td>34</td>\n",
       "      <td>RG270</td>\n",
       "      <td>Salaried</td>\n",
       "      <td>X1</td>\n",
       "      <td>19</td>\n",
       "      <td>No</td>\n",
       "      <td>470454</td>\n",
       "      <td>No</td>\n",
       "      <td>0</td>\n",
       "    </tr>\n",
       "    <tr>\n",
       "      <th>TEASRWXV</th>\n",
       "      <td>Female</td>\n",
       "      <td>30</td>\n",
       "      <td>RG282</td>\n",
       "      <td>Salaried</td>\n",
       "      <td>X1</td>\n",
       "      <td>33</td>\n",
       "      <td>No</td>\n",
       "      <td>886787</td>\n",
       "      <td>No</td>\n",
       "      <td>0</td>\n",
       "    </tr>\n",
       "    <tr>\n",
       "      <th>...</th>\n",
       "      <td>...</td>\n",
       "      <td>...</td>\n",
       "      <td>...</td>\n",
       "      <td>...</td>\n",
       "      <td>...</td>\n",
       "      <td>...</td>\n",
       "      <td>...</td>\n",
       "      <td>...</td>\n",
       "      <td>...</td>\n",
       "      <td>...</td>\n",
       "    </tr>\n",
       "    <tr>\n",
       "      <th>3HPHK52G</th>\n",
       "      <td>Male</td>\n",
       "      <td>51</td>\n",
       "      <td>RG283</td>\n",
       "      <td>Self_Employed</td>\n",
       "      <td>X1</td>\n",
       "      <td>91</td>\n",
       "      <td>No</td>\n",
       "      <td>766548</td>\n",
       "      <td>No</td>\n",
       "      <td>1</td>\n",
       "    </tr>\n",
       "    <tr>\n",
       "      <th>NUTSCAQY</th>\n",
       "      <td>Female</td>\n",
       "      <td>52</td>\n",
       "      <td>RG273</td>\n",
       "      <td>Other</td>\n",
       "      <td>X3</td>\n",
       "      <td>74</td>\n",
       "      <td>Yes</td>\n",
       "      <td>1122023</td>\n",
       "      <td>Yes</td>\n",
       "      <td>1</td>\n",
       "    </tr>\n",
       "    <tr>\n",
       "      <th>DTQJBXK6</th>\n",
       "      <td>Male</td>\n",
       "      <td>43</td>\n",
       "      <td>RG257</td>\n",
       "      <td>Salaried</td>\n",
       "      <td>X1</td>\n",
       "      <td>50</td>\n",
       "      <td>No</td>\n",
       "      <td>551203</td>\n",
       "      <td>Yes</td>\n",
       "      <td>1</td>\n",
       "    </tr>\n",
       "    <tr>\n",
       "      <th>4GZKAUQC</th>\n",
       "      <td>Male</td>\n",
       "      <td>36</td>\n",
       "      <td>RG284</td>\n",
       "      <td>Self_Employed</td>\n",
       "      <td>X3</td>\n",
       "      <td>15</td>\n",
       "      <td>Yes</td>\n",
       "      <td>608110</td>\n",
       "      <td>Yes</td>\n",
       "      <td>1</td>\n",
       "    </tr>\n",
       "    <tr>\n",
       "      <th>BZ7NHPMJ</th>\n",
       "      <td>Female</td>\n",
       "      <td>41</td>\n",
       "      <td>RG277</td>\n",
       "      <td>Self_Employed</td>\n",
       "      <td>X2</td>\n",
       "      <td>13</td>\n",
       "      <td>Yes</td>\n",
       "      <td>898170</td>\n",
       "      <td>Yes</td>\n",
       "      <td>1</td>\n",
       "    </tr>\n",
       "  </tbody>\n",
       "</table>\n",
       "<p>73313 rows × 10 columns</p>\n",
       "</div>"
      ],
      "text/plain": [
       "          Gender  Age Region_Code     Occupation Channel_Code  Vintage  \\\n",
       "ID                                                                       \n",
       "NNVBBKZB  Female   73       RG268          Other           X3       43   \n",
       "IDD62UNG  Female   30       RG277       Salaried           X1       32   \n",
       "HD3DSEMC  Female   56       RG268  Self_Employed           X3       26   \n",
       "BF3NC7KV    Male   34       RG270       Salaried           X1       19   \n",
       "TEASRWXV  Female   30       RG282       Salaried           X1       33   \n",
       "...          ...  ...         ...            ...          ...      ...   \n",
       "3HPHK52G    Male   51       RG283  Self_Employed           X1       91   \n",
       "NUTSCAQY  Female   52       RG273          Other           X3       74   \n",
       "DTQJBXK6    Male   43       RG257       Salaried           X1       50   \n",
       "4GZKAUQC    Male   36       RG284  Self_Employed           X3       15   \n",
       "BZ7NHPMJ  Female   41       RG277  Self_Employed           X2       13   \n",
       "\n",
       "         Credit_Product  Avg_Account_Balance Is_Active  Is_Lead  \n",
       "ID                                                               \n",
       "NNVBBKZB             No              1045696        No        0  \n",
       "IDD62UNG             No               581988        No        0  \n",
       "HD3DSEMC             No              1484315       Yes        0  \n",
       "BF3NC7KV             No               470454        No        0  \n",
       "TEASRWXV             No               886787        No        0  \n",
       "...                 ...                  ...       ...      ...  \n",
       "3HPHK52G             No               766548        No        1  \n",
       "NUTSCAQY            Yes              1122023       Yes        1  \n",
       "DTQJBXK6             No               551203       Yes        1  \n",
       "4GZKAUQC            Yes               608110       Yes        1  \n",
       "BZ7NHPMJ            Yes               898170       Yes        1  \n",
       "\n",
       "[73313 rows x 10 columns]"
      ]
     },
     "execution_count": 8,
     "metadata": {},
     "output_type": "execute_result"
    }
   ],
   "source": [
    "# load balancing\n",
    "frames = [x_train[x_train['Is_Lead'] == 0].iloc[:40000, :], x_train[x_train['Is_Lead'] == 1]]\n",
    "bal_x_train = pd.concat(frames)\n",
    "bal_x_train"
   ]
  },
  {
   "cell_type": "code",
   "execution_count": 9,
   "metadata": {},
   "outputs": [
    {
     "name": "stdout",
     "output_type": "stream",
     "text": [
      "[0 1]\n",
      "          Is_Lead\n",
      "ID               \n",
      "NNVBBKZB        0\n",
      "IDD62UNG        0\n",
      "HD3DSEMC        0\n"
     ]
    }
   ],
   "source": [
    "# Dividing the input and output features.\n",
    "Y_train = pd.DataFrame(bal_x_train[\"Is_Lead\"])\n",
    "bal_x_train = bal_x_train.drop(columns=\"Is_Lead\")\n",
    "print(Y_train['Is_Lead'].unique())\n",
    "print(Y_train.head(3))"
   ]
  },
  {
   "cell_type": "code",
   "execution_count": 10,
   "metadata": {},
   "outputs": [
    {
     "name": "stdout",
     "output_type": "stream",
     "text": [
      "Gender                 object\n",
      "Age                     int64\n",
      "Region_Code            object\n",
      "Occupation             object\n",
      "Channel_Code           object\n",
      "Vintage                 int64\n",
      "Credit_Product         object\n",
      "Avg_Account_Balance     int64\n",
      "Is_Active              object\n",
      "dtype: object\n",
      "Is_Lead    int64\n",
      "dtype: object\n"
     ]
    }
   ],
   "source": [
    "# Data type of the features\n",
    "print(bal_x_train.dtypes)\n",
    "print(Y_train.dtypes)"
   ]
  },
  {
   "cell_type": "code",
   "execution_count": 11,
   "metadata": {},
   "outputs": [],
   "source": [
    "# Encoding the features of training data\n",
    "le = preprocessing.LabelEncoder()\n",
    "for column_name in bal_x_train.columns:\n",
    "    if bal_x_train[column_name].dtype == object:\n",
    "        bal_x_train[column_name] = le.fit_transform(bal_x_train[column_name])\n",
    "    else:\n",
    "        pass\n",
    "\n",
    "# Encoding the features of testing data\n",
    "le = preprocessing.LabelEncoder()\n",
    "for column_name in test_data.columns:\n",
    "    if test_data[column_name].dtype == object:\n",
    "        test_data[column_name] = le.fit_transform(test_data[column_name])\n",
    "    else:\n",
    "        pass"
   ]
  },
  {
   "cell_type": "code",
   "execution_count": 12,
   "metadata": {},
   "outputs": [],
   "source": [
    "# Splitting the datasets into train and test sets (33% data for testing).\n",
    "\n",
    "X_train, X_test, y_train, y_test = train_test_split(bal_x_train, Y_train, test_size=0.33)"
   ]
  },
  {
   "cell_type": "markdown",
   "metadata": {},
   "source": [
    "### 3. Classification Models"
   ]
  },
  {
   "cell_type": "markdown",
   "metadata": {},
   "source": [
    "3.1. Logistic Regression"
   ]
  },
  {
   "cell_type": "code",
   "execution_count": 13,
   "metadata": {},
   "outputs": [
    {
     "name": "stderr",
     "output_type": "stream",
     "text": [
      "C:\\Users\\HELLO\\AppData\\Roaming\\Python\\Python37\\site-packages\\sklearn\\utils\\validation.py:63: DataConversionWarning: A column-vector y was passed when a 1d array was expected. Please change the shape of y to (n_samples, ), for example using ravel().\n",
      "  return f(*args, **kwargs)\n"
     ]
    },
    {
     "data": {
      "text/plain": [
       "56.50574522608911"
      ]
     },
     "execution_count": 13,
     "metadata": {},
     "output_type": "execute_result"
    }
   ],
   "source": [
    "lr = LogisticRegression()\n",
    "lr.fit(X_train, y_train)\n",
    "lr_predicted_Y = lr.predict(X_test)\n",
    "acc_lr = accuracy_score(y_test, lr_predicted_Y)*100\n",
    "acc_lr"
   ]
  },
  {
   "cell_type": "markdown",
   "metadata": {},
   "source": [
    "3.2. Naïve Bayes"
   ]
  },
  {
   "cell_type": "code",
   "execution_count": 14,
   "metadata": {},
   "outputs": [
    {
     "name": "stderr",
     "output_type": "stream",
     "text": [
      "C:\\Users\\HELLO\\AppData\\Roaming\\Python\\Python37\\site-packages\\sklearn\\utils\\validation.py:63: DataConversionWarning: A column-vector y was passed when a 1d array was expected. Please change the shape of y to (n_samples, ), for example using ravel().\n",
      "  return f(*args, **kwargs)\n"
     ]
    },
    {
     "data": {
      "text/plain": [
       "64.6151938497148"
      ]
     },
     "execution_count": 14,
     "metadata": {},
     "output_type": "execute_result"
    }
   ],
   "source": [
    "nb = GaussianNB()\n",
    "nb.fit(X_train, y_train)\n",
    "nb_predicted_Y = nb.predict(X_test)\n",
    "acc_nb = accuracy_score(y_test, nb_predicted_Y)*100\n",
    "acc_nb"
   ]
  },
  {
   "cell_type": "markdown",
   "metadata": {},
   "source": [
    "3.3. Decision Tree"
   ]
  },
  {
   "cell_type": "code",
   "execution_count": 15,
   "metadata": {},
   "outputs": [
    {
     "data": {
      "text/plain": [
       "64.0158717037282"
      ]
     },
     "execution_count": 15,
     "metadata": {},
     "output_type": "execute_result"
    }
   ],
   "source": [
    "dtree = DecisionTreeClassifier()\n",
    "dtree.fit(X_train, y_train)\n",
    "dt_predicted_Y = dtree.predict(X_test)\n",
    "acc_dtree = accuracy_score(y_test, dt_predicted_Y)*100\n",
    "acc_dtree"
   ]
  },
  {
   "cell_type": "markdown",
   "metadata": {},
   "source": [
    "3.4. Random Forest"
   ]
  },
  {
   "cell_type": "code",
   "execution_count": 16,
   "metadata": {},
   "outputs": [
    {
     "name": "stderr",
     "output_type": "stream",
     "text": [
      "C:\\Users\\HELLO\\AppData\\Roaming\\Python\\Python37\\site-packages\\ipykernel_launcher.py:2: DataConversionWarning: A column-vector y was passed when a 1d array was expected. Please change the shape of y to (n_samples,), for example using ravel().\n",
      "  \n"
     ]
    },
    {
     "data": {
      "text/plain": [
       "72.55104571381335"
      ]
     },
     "execution_count": 16,
     "metadata": {},
     "output_type": "execute_result"
    }
   ],
   "source": [
    "rfm = RandomForestClassifier()\n",
    "rfm.fit(X_train, y_train)\n",
    "rfm_predicted_Y = rfm.predict(X_test)\n",
    "acc_rfm = accuracy_score(y_test, rfm_predicted_Y)*100\n",
    "acc_rfm"
   ]
  },
  {
   "cell_type": "markdown",
   "metadata": {},
   "source": [
    "3.5. XGBoost"
   ]
  },
  {
   "cell_type": "code",
   "execution_count": 17,
   "metadata": {},
   "outputs": [
    {
     "name": "stderr",
     "output_type": "stream",
     "text": [
      "C:\\Users\\HELLO\\AppData\\Roaming\\Python\\Python37\\site-packages\\xgboost\\sklearn.py:892: UserWarning: The use of label encoder in XGBClassifier is deprecated and will be removed in a future release. To remove this warning, do the following: 1) Pass option use_label_encoder=False when constructing XGBClassifier object; and 2) Encode your labels (y) as integers starting with 0, i.e. 0, 1, 2, ..., [num_class - 1].\n",
      "  warnings.warn(label_encoder_deprecation_msg, UserWarning)\n",
      "C:\\Users\\HELLO\\AppData\\Roaming\\Python\\Python37\\site-packages\\sklearn\\utils\\validation.py:63: DataConversionWarning: A column-vector y was passed when a 1d array was expected. Please change the shape of y to (n_samples, ), for example using ravel().\n",
      "  return f(*args, **kwargs)\n"
     ]
    },
    {
     "name": "stdout",
     "output_type": "stream",
     "text": [
      "[15:53:56] WARNING: C:/Users/Administrator/workspace/xgboost-win64_release_1.3.0/src/learner.cc:1061: Starting in XGBoost 1.3.0, the default evaluation metric used with the objective 'binary:logistic' was changed from 'error' to 'logloss'. Explicitly set eval_metric if you'd like to restore the old behavior.\n"
     ]
    },
    {
     "data": {
      "text/plain": [
       "74.13821608663305"
      ]
     },
     "execution_count": 17,
     "metadata": {},
     "output_type": "execute_result"
    }
   ],
   "source": [
    "xgb = XGBClassifier(max_depth=3, n_estimators=300, learning_rate=0.05).fit(X_train, y_train)\n",
    "xgb_predicted_Y = xgb.predict(X_test)\n",
    "acc_xgb = accuracy_score(y_test, xgb_predicted_Y)*100\n",
    "acc_xgb"
   ]
  },
  {
   "cell_type": "markdown",
   "metadata": {},
   "source": [
    "### 4. Comparing the accuracy of various classifiers (plotting the scores)"
   ]
  },
  {
   "cell_type": "code",
   "execution_count": 18,
   "metadata": {},
   "outputs": [
    {
     "data": {
      "text/plain": [
       "Text(0, 0.5, 'Classifier Names')"
      ]
     },
     "execution_count": 18,
     "metadata": {},
     "output_type": "execute_result"
    },
    {
     "data": {
      "image/png": "[encoded data removed]",
      "text/plain": [
       "<Figure size 432x288 with 1 Axes>"
      ]
     },
     "metadata": {
      "needs_background": "light"
     },
     "output_type": "display_data"
    }
   ],
   "source": [
    "classifier_names = np.array(['Logistic Regression', 'Decision Tree',\n",
    "                    'Naïve Bayes', 'XGBoost', 'Random Forest'])\n",
    "\n",
    "classifier_scores = np.array([acc_lr, acc_dtree, \n",
    "                              acc_nb, acc_xgb, acc_rfm]).round(2)\n",
    "\n",
    "# Plotting the bar graph of accuracy for every classifier\n",
    "\n",
    "fig, ax = plt.subplots()    \n",
    "width = 0.75 # the width of the bars \n",
    "ind = np.arange(len(classifier_scores))  # the x locations for the groups\n",
    "for i, v in enumerate(classifier_scores):\n",
    "    ax.text(v + 3, i - .15, str(v), color='blue', fontweight='bold')\n",
    "ax.barh(ind, classifier_scores, width, color=\"tab:orange\")\n",
    "ax.set_yticks(ind+width/2)\n",
    "ax.set_yticklabels(classifier_names, minor=False)\n",
    "plt.title('Accuracy of various classifiers')\n",
    "plt.xlabel('Classifier Scores')\n",
    "plt.ylabel('Classifier Names')   "
   ]
  },
  {
   "cell_type": "markdown",
   "metadata": {},
   "source": [
    "### 5. Prediction (making predictions with the highest scoring classifier i.e. XGBoost)"
   ]
  },
  {
   "cell_type": "code",
   "execution_count": 19,
   "metadata": {},
   "outputs": [],
   "source": [
    "predictions = xgb.predict(test_data)"
   ]
  },
  {
   "cell_type": "markdown",
   "metadata": {},
   "source": [
    "### 6. Submission"
   ]
  },
  {
   "cell_type": "code",
   "execution_count": 22,
   "metadata": {},
   "outputs": [],
   "source": [
    "submission = pd.DataFrame({'ID': test_data.index,\n",
    "                    'Is_Lead': predictions})\n",
    "\n",
    "submission.to_csv(r'C:\\Users\\HELLO\\Favorites\\Downloads\\Credit Card\\submission.csv', index=False)"
   ]
  },
  {
   "cell_type": "code",
   "execution_count": null,
   "metadata": {},
   "outputs": [],
   "source": []
  }
 ],
 "metadata": {
  "kernelspec": {
   "display_name": "Python 3",
   "language": "python",
   "name": "python3"
  },
  "language_info": {
   "codemirror_mode": {
    "name": "ipython",
    "version": 3
   },
   "file_extension": ".py",
   "mimetype": "text/x-python",
   "name": "python",
   "nbconvert_exporter": "python",
   "pygments_lexer": "ipython3",
   "version": "3.7.3"
  }
 },
 "nbformat": 4,
 "nbformat_minor": 2
}
